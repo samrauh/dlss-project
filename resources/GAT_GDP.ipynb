{
  "cells": [
    {
      "cell_type": "markdown",
      "metadata": {
        "id": "f4oocRy9TcQE"
      },
      "source": [
        "# Using GATs and Edge Features to predict GDP\n",
        "## Rahul Shiv, Andre Turati, and Peter Boennighausen\n",
        "\n",
        "This is the companion Colab to our CS224W project on using graph attention networks to do node-level regression on GDP from the World Bank, with node-level features also from the World Bank and edge-level features from BACI. See the Medium post ___HERE___ for me details.\n",
        "\n",
        "The following cells train the model and generate the plots shown in the article.\n",
        "\n",
        "For the full code used in our project, split over multiple files and including checkpoint saving, see the Github at https://github.com/pboennig/gnns_for_gdp."
      ]
    },
    {
      "cell_type": "markdown",
      "metadata": {
        "id": "JC-hA30FUEko"
      },
      "source": [
        "First, we install the packages that aren't already on Colab."
      ]
    },
    {
      "cell_type": "code",
      "execution_count": null,
      "metadata": {
        "colab": {
          "base_uri": "https://localhost:8080/"
        },
        "id": "5TSu2wOOJmi6",
        "outputId": "32671a3f-4e13-41b8-d293-1a671cc29db4"
      },
      "outputs": [
        {
          "name": "stdout",
          "output_type": "stream",
          "text": [
            "Looking in links: https://data.pyg.org/whl/torch-1.10.0+cu111.html\n",
            "Collecting torch-scatter\n",
            "  Downloading https://data.pyg.org/whl/torch-1.10.0%2Bcu113/torch_scatter-2.0.9-cp37-cp37m-linux_x86_64.whl (7.9 MB)\n",
            "\u001b[K     |████████████████████████████████| 7.9 MB 5.4 MB/s \n",
            "\u001b[?25hInstalling collected packages: torch-scatter\n",
            "Successfully installed torch-scatter-2.0.9\n",
            "Looking in links: https://data.pyg.org/whl/torch-1.10.0+cu111.html\n",
            "Collecting torch-sparse\n",
            "  Downloading https://data.pyg.org/whl/torch-1.10.0%2Bcu113/torch_sparse-0.6.12-cp37-cp37m-linux_x86_64.whl (3.5 MB)\n",
            "\u001b[K     |████████████████████████████████| 3.5 MB 5.2 MB/s \n",
            "\u001b[?25hRequirement already satisfied: scipy in /usr/local/lib/python3.7/dist-packages (from torch-sparse) (1.4.1)\n",
            "Requirement already satisfied: numpy>=1.13.3 in /usr/local/lib/python3.7/dist-packages (from scipy->torch-sparse) (1.19.5)\n",
            "Installing collected packages: torch-sparse\n",
            "Successfully installed torch-sparse-0.6.12\n",
            "Collecting torch-geometric\n",
            "  Downloading torch_geometric-2.0.2.tar.gz (325 kB)\n",
            "\u001b[K     |████████████████████████████████| 325 kB 5.0 MB/s \n",
            "\u001b[?25hRequirement already satisfied: numpy in /usr/local/lib/python3.7/dist-packages (from torch-geometric) (1.19.5)\n",
            "Requirement already satisfied: tqdm in /usr/local/lib/python3.7/dist-packages (from torch-geometric) (4.62.3)\n",
            "Requirement already satisfied: scipy in /usr/local/lib/python3.7/dist-packages (from torch-geometric) (1.4.1)\n",
            "Requirement already satisfied: networkx in /usr/local/lib/python3.7/dist-packages (from torch-geometric) (2.6.3)\n",
            "Requirement already satisfied: scikit-learn in /usr/local/lib/python3.7/dist-packages (from torch-geometric) (1.0.1)\n",
            "Requirement already satisfied: requests in /usr/local/lib/python3.7/dist-packages (from torch-geometric) (2.23.0)\n",
            "Requirement already satisfied: pandas in /usr/local/lib/python3.7/dist-packages (from torch-geometric) (1.1.5)\n",
            "Collecting rdflib\n",
            "  Downloading rdflib-6.0.2-py3-none-any.whl (407 kB)\n",
            "\u001b[K     |████████████████████████████████| 407 kB 38.7 MB/s \n",
            "\u001b[?25hRequirement already satisfied: googledrivedownloader in /usr/local/lib/python3.7/dist-packages (from torch-geometric) (0.4)\n",
            "Requirement already satisfied: jinja2 in /usr/local/lib/python3.7/dist-packages (from torch-geometric) (2.11.3)\n",
            "Requirement already satisfied: pyparsing in /usr/local/lib/python3.7/dist-packages (from torch-geometric) (3.0.6)\n",
            "Collecting yacs\n",
            "  Downloading yacs-0.1.8-py3-none-any.whl (14 kB)\n",
            "Requirement already satisfied: PyYAML in /usr/local/lib/python3.7/dist-packages (from torch-geometric) (3.13)\n",
            "Requirement already satisfied: MarkupSafe>=0.23 in /usr/local/lib/python3.7/dist-packages (from jinja2->torch-geometric) (2.0.1)\n",
            "Requirement already satisfied: python-dateutil>=2.7.3 in /usr/local/lib/python3.7/dist-packages (from pandas->torch-geometric) (2.8.2)\n",
            "Requirement already satisfied: pytz>=2017.2 in /usr/local/lib/python3.7/dist-packages (from pandas->torch-geometric) (2018.9)\n",
            "Requirement already satisfied: six>=1.5 in /usr/local/lib/python3.7/dist-packages (from python-dateutil>=2.7.3->pandas->torch-geometric) (1.15.0)\n",
            "Collecting isodate\n",
            "  Downloading isodate-0.6.0-py2.py3-none-any.whl (45 kB)\n",
            "\u001b[K     |████████████████████████████████| 45 kB 3.2 MB/s \n",
            "\u001b[?25hRequirement already satisfied: setuptools in /usr/local/lib/python3.7/dist-packages (from rdflib->torch-geometric) (57.4.0)\n",
            "Requirement already satisfied: idna<3,>=2.5 in /usr/local/lib/python3.7/dist-packages (from requests->torch-geometric) (2.10)\n",
            "Requirement already satisfied: certifi>=2017.4.17 in /usr/local/lib/python3.7/dist-packages (from requests->torch-geometric) (2021.10.8)\n",
            "Requirement already satisfied: chardet<4,>=3.0.2 in /usr/local/lib/python3.7/dist-packages (from requests->torch-geometric) (3.0.4)\n",
            "Requirement already satisfied: urllib3!=1.25.0,!=1.25.1,<1.26,>=1.21.1 in /usr/local/lib/python3.7/dist-packages (from requests->torch-geometric) (1.24.3)\n",
            "Requirement already satisfied: joblib>=0.11 in /usr/local/lib/python3.7/dist-packages (from scikit-learn->torch-geometric) (1.1.0)\n",
            "Requirement already satisfied: threadpoolctl>=2.0.0 in /usr/local/lib/python3.7/dist-packages (from scikit-learn->torch-geometric) (3.0.0)\n",
            "Building wheels for collected packages: torch-geometric\n",
            "  Building wheel for torch-geometric (setup.py) ... \u001b[?25l\u001b[?25hdone\n",
            "  Created wheel for torch-geometric: filename=torch_geometric-2.0.2-py3-none-any.whl size=535570 sha256=6375b240834540d09f6a62dfc2e9ff6fecbbcf256b4b8e0fc26e0d9c68c50efa\n",
            "  Stored in directory: /root/.cache/pip/wheels/3f/08/13/2321517088bb2e95bfd0e45033bb9c923189e5b2078e0be4ef\n",
            "Successfully built torch-geometric\n",
            "Installing collected packages: isodate, yacs, rdflib, torch-geometric\n",
            "Successfully installed isodate-0.6.0 rdflib-6.0.2 torch-geometric-2.0.2 yacs-0.1.8\n"
          ]
        }
      ],
      "source": [
        "!pip install torch-scatter -f https://data.pyg.org/whl/torch-1.10.0+cu111.html\n",
        "!pip install torch-sparse -f https://data.pyg.org/whl/torch-1.10.0+cu111.html\n",
        "!pip install torch-geometric"
      ]
    },
    {
      "cell_type": "markdown",
      "metadata": {
        "id": "2PRSsON8UJ7g"
      },
      "source": [
        "Next, we write some util functions for creating the PyG Data object, evaluating the model, and splitting between train, validation, and test.\n",
        "\n",
        "Note that in this Colab, we operate on the CSVs we generated from the raw data. For the full pipeline from raw data onwards, see the Github."
      ]
    },
    {
      "cell_type": "code",
      "execution_count": null,
      "metadata": {
        "id": "kzN4oWB6J7kD"
      },
      "outputs": [],
      "source": [
        "import torch\n",
        "import pandas as pd\n",
        "import random\n",
        "import torch.nn.functional as F\n",
        "import numpy as np\n",
        "from torch_geometric.data import Data\n",
        "\n",
        "FIRST_YEAR = 1995\n",
        "LAST_YEAR = 2019\n",
        "FEATURES = ['pop', 'cpi', 'emp']\n",
        "NUM_TRAIN = 15\n",
        "NUM_VAL = 3\n",
        "NUM_TEST = 6\n",
        "NUM_EDGE_FEATURES = 10\n",
        "EDGE_FEATURES = ['f'+str(i) for i in range(NUM_EDGE_FEATURES)]\n",
        "\n",
        "# The data is found in the project's Github.\n",
        "DOWNLOAD_PREFIX = 'https://raw.githubusercontent.com/pboennig/gnns_for_gdp/master/'\n",
        "\n",
        "def create_data(year):\n",
        "    '''\n",
        "    For given year, pull in node features, edge features, and edge index and\n",
        "    save in a PyG Data object.\n",
        "    '''\n",
        "\n",
        "    assert(year in range(FIRST_YEAR, LAST_YEAR + 1))\n",
        "    edges = pd.read_csv(f'{DOWNLOAD_PREFIX}/output/X_EDGE_{year}.csv')\n",
        "\n",
        "    # generate map from iso_code to ids of form [0, ..., num_unique_iso_codes - 1]\n",
        "    iso_codes = set(edges['i'])\n",
        "    iso_codes = iso_codes.union(set(edges['j']))\n",
        "    iso_code_to_id = {code : i for (i, code) in enumerate(iso_codes)}\n",
        "\n",
        "    # load in edge index\n",
        "    edges['i_id'] = edges['i'].map(iso_code_to_id)\n",
        "    edges['j_id'] = edges['j'].map(iso_code_to_id)\n",
        "    edge_index = torch.from_numpy(edges[['i_id', 'j_id']].to_numpy(np.long)).t()\n",
        "    edge_attr = torch.from_numpy(edges[EDGE_FEATURES].to_numpy(np.float32)) #extract the features from the dataset.\n",
        "    edge_attr = (edge_attr - edge_attr.mean(axis=0)) / (edge_attr.std(axis=0))\n",
        "\n",
        "    # load in target values\n",
        "    y_df = pd.read_csv(f'{DOWNLOAD_PREFIX}/output/Y_{year}.csv')\n",
        "    y_df['id'] = y_df['iso_code'].map(iso_code_to_id)\n",
        "    y = torch.from_numpy(y_df.sort_values('id')[f'{year+1}'].to_numpy(np.float32)).unsqueeze(1)# get labels as tensor\n",
        "    y = y.log() # log scale since spread of GDP is large\n",
        "\n",
        "    # load in input features\n",
        "    x_df = pd.read_csv(f'{DOWNLOAD_PREFIX}/output/X_NODE_{year}.csv')\n",
        "    x_df['id'] = x_df['iso_code'].map(iso_code_to_id)\n",
        "    features = ['pop', 'cpi', 'emp']\n",
        "    x = torch.from_numpy(x_df.sort_values('id').loc[:,features].to_numpy(np.float32))\n",
        "    x = (x - x.mean(axis=0)) / (x.std(axis=0))  # scale and center data\n",
        "    return Data(x=x, edge_index=edge_index, edge_attr=edge_attr, y=y)\n",
        "\n",
        "def evaluate_model(model, data_iter):\n",
        "    '''\n",
        "    Accumulate MSE over a data list or loader.\n",
        "    '''\n",
        "    return sum([F.mse_loss(model(data), data.y).item() for data in data_iter])\n",
        "\n",
        "def get_data():\n",
        "    '''\n",
        "    Generate data_lists for train, val, and test. These lists can be either loaded into data_loaders\n",
        "    or indexed directly.\n",
        "    '''\n",
        "\n",
        "    data_list = [create_data(year) for year in range(FIRST_YEAR, LAST_YEAR)]\n",
        "    random.shuffle(data_list)\n",
        "    data_train = data_list[:NUM_TRAIN]\n",
        "    data_val = data_list[NUM_TRAIN:NUM_TRAIN+NUM_VAL+1]\n",
        "    data_test = data_list[NUM_TRAIN+NUM_VAL:]\n",
        "    return (data_train, data_val, data_test)"
      ]
    },
    {
      "cell_type": "markdown",
      "metadata": {
        "id": "anzKAAQlUlVd"
      },
      "source": [
        "We define a 2-layer GAT with no edge features."
      ]
    },
    {
      "cell_type": "code",
      "execution_count": null,
      "metadata": {
        "id": "A0PmKnVKKrC2"
      },
      "outputs": [],
      "source": [
        "import torch.nn as nn\n",
        "from torch_geometric.nn import GCNConv, GATConv\n",
        "from torch_geometric.loader import DataLoader\n",
        "import random\n",
        "\n",
        "class BaselineGDPModel(torch.nn.Module):\n",
        "    def __init__(self, num_features=3, hidden_size=32, target_size=1):\n",
        "        super().__init__()\n",
        "        self.hidden_size = hidden_size\n",
        "        self.num_features = num_features\n",
        "        self.target_size = target_size\n",
        "        self.convs = [GATConv(self.num_features, self.hidden_size),\n",
        "                      GATConv(self.hidden_size, self.hidden_size)]\n",
        "        self.linear = nn.Linear(self.hidden_size, self.target_size)\n",
        "\n",
        "    def forward(self, data):\n",
        "        x, edge_index, edge_attr = data.x, data.edge_index, data.edge_attr\n",
        "        for conv in self.convs[:-1]:\n",
        "            x = conv(x, edge_index)\n",
        "            x = F.relu(x)\n",
        "            x = F.dropout(x, training=self.training)\n",
        "        x = self.convs[-1](x, edge_index)\n",
        "        x = self.linear(x)\n",
        "        return F.relu(x) # since we know Y = log_gdp > 0, enforce via relu\n"
      ]
    },
    {
      "cell_type": "markdown",
      "metadata": {
        "id": "TWh_F0o1UqC1"
      },
      "source": [
        "We then define a 2-layer GAT _with_ edge features."
      ]
    },
    {
      "cell_type": "code",
      "execution_count": null,
      "metadata": {
        "id": "rX5NibB4KxA_"
      },
      "outputs": [],
      "source": [
        "# Basically the same as the baseline except we pass edge features\n",
        "class GDPModel(torch.nn.Module):\n",
        "    def __init__(self, num_features=3, hidden_size=32, target_size=1):\n",
        "        super().__init__()\n",
        "        self.hidden_size = hidden_size\n",
        "        self.num_features = num_features\n",
        "        self.target_size = target_size\n",
        "        self.convs = [GATConv(self.num_features, self.hidden_size, edge_dim = NUM_EDGE_FEATURES),\n",
        "                      GATConv(self.hidden_size, self.hidden_size, edge_dim = NUM_EDGE_FEATURES)]\n",
        "        self.linear = nn.Linear(self.hidden_size, self.target_size)\n",
        "\n",
        "    def forward(self, data):\n",
        "        x, edge_index, edge_attr = data.x, data.edge_index, data.edge_attr\n",
        "        for conv in self.convs[:-1]:\n",
        "            x = conv(x, edge_index, edge_attr=edge_attr) # adding edge features here!\n",
        "            x = F.relu(x)\n",
        "            x = F.dropout(x, training=self.training)\n",
        "        x = self.convs[-1](x, edge_index, edge_attr=edge_attr)\n",
        "        x = self.linear(x)\n",
        "\n",
        "        return F.relu(x)"
      ]
    },
    {
      "cell_type": "markdown",
      "metadata": {
        "id": "yFFkY1w-UvJf"
      },
      "source": [
        "We define hyperparameters for training. These were used in our experiments after some searching, but feel free to play around."
      ]
    },
    {
      "cell_type": "code",
      "execution_count": null,
      "metadata": {
        "id": "WWwLo32bKz0b"
      },
      "outputs": [],
      "source": [
        "hyperparams = {\n",
        "    'batch_size' : 3,\n",
        "    'save_loss_interval' : 10,\n",
        "    'print_interval' : 50,\n",
        "    'save_model_interval' : 250,\n",
        "    'n_epochs' : 1500,\n",
        "    'learning_rate' : 0.01\n",
        "}"
      ]
    },
    {
      "cell_type": "code",
      "execution_count": null,
      "metadata": {
        "id": "pUjoP6wvU2Bp"
      },
      "outputs": [],
      "source": [
        "data_train, data_val, data_test = get_data() # the function described above, these data are what we'll work with"
      ]
    },
    {
      "cell_type": "markdown",
      "metadata": {
        "id": "ajpyy_27U-F4"
      },
      "source": [
        "Our main training function."
      ]
    },
    {
      "cell_type": "code",
      "execution_count": null,
      "metadata": {
        "id": "l2Sg8PYkLi5U"
      },
      "outputs": [],
      "source": [
        "def train(model, name_prefix, hyperparams):\n",
        "    '''\n",
        "    Train model with given hyperparams dict.\n",
        "\n",
        "    Saves the following CSVs over the course of training:\n",
        "    1. the loss trajectory: the val and train loss every save_loss_interval epochs at\n",
        "       filename 'results/{name_prefix}_{learning_rate}_train.csv' e.g. 'results/baseline_0.05_train.csv'\n",
        "    2. every save_model_interval save both the model at e.g. 'models/baseline_0.05_0_out_of_1000.pt`\n",
        "       and the predicted values vs actual values in `results/baseline_0.05_0_out_of_1000_prediction.csv' on the test data.\n",
        "    '''\n",
        "    learning_rate = hyperparams['learning_rate']\n",
        "    batch_size = hyperparams['batch_size']\n",
        "    n_epochs = hyperparams['n_epochs']\n",
        "    save_loss_interval = hyperparams['save_loss_interval']\n",
        "    print_interval = hyperparams['print_interval']\n",
        "    save_model_interval = hyperparams['save_model_interval']\n",
        "\n",
        "    optimizer = torch.optim.AdamW(model.parameters(), lr=learning_rate)\n",
        "    loader = DataLoader(data_train, batch_size=batch_size, shuffle=True)\n",
        "    losses = []\n",
        "    test_data = data_test[0]\n",
        "    for epoch in range(n_epochs):\n",
        "        epoch_loss = 0\n",
        "        model.train()\n",
        "        for data in loader:\n",
        "            optimizer.zero_grad()\n",
        "            out = model(data)\n",
        "            loss = F.mse_loss(out, data.y)\n",
        "            epoch_loss += loss.item()\n",
        "            loss.backward()\n",
        "            optimizer.step()\n",
        "        if epoch % save_loss_interval == 0:\n",
        "            val_loss = evaluate_model(model, data_val) / NUM_VAL\n",
        "            train_loss = epoch_loss / NUM_TRAIN * batch_size\n",
        "            if epoch % print_interval == 0:\n",
        "                print(\"Epoch: {} Train loss: {:.2e} Validation loss: {:.2e}\".format(epoch, train_loss, val_loss))\n",
        "            losses.append((epoch, train_loss, val_loss))\n",
        "        if epoch % save_model_interval == 0:\n",
        "            # save predictions for plotting\n",
        "            model.eval()\n",
        "\n",
        "    return losses"
      ]
    },
    {
      "cell_type": "markdown",
      "metadata": {
        "id": "7SsAzTjRVrG5"
      },
      "source": [
        "The following cells may take a while, feel free to change the n_epochs in ``hyperparams`` above if you're in a rush!"
      ]
    },
    {
      "cell_type": "code",
      "execution_count": null,
      "metadata": {
        "colab": {
          "background_save": true,
          "base_uri": "https://localhost:8080/"
        },
        "id": "tv0KRYYINAmw",
        "outputId": "9e37a770-63c4-4033-a738-c11a5050e6c7"
      },
      "outputs": [
        {
          "name": "stdout",
          "output_type": "stream",
          "text": [
            "Training baseline...\n",
            "Epoch: 0 Train loss: 5.59e+02 Validation loss: 7.46e+02\n",
            "Epoch: 50 Train loss: 2.34e+02 Validation loss: 3.04e+02\n",
            "Epoch: 100 Train loss: 1.47e+02 Validation loss: 1.77e+02\n",
            "Epoch: 150 Train loss: 1.13e+02 Validation loss: 1.40e+02\n",
            "Epoch: 200 Train loss: 1.00e+02 Validation loss: 1.01e+02\n",
            "Epoch: 250 Train loss: 8.89e+01 Validation loss: 8.75e+01\n",
            "Epoch: 300 Train loss: 6.39e+01 Validation loss: 8.42e+01\n",
            "Epoch: 350 Train loss: 5.60e+01 Validation loss: 6.77e+01\n",
            "Epoch: 400 Train loss: 4.32e+01 Validation loss: 5.29e+01\n",
            "Epoch: 450 Train loss: 3.73e+01 Validation loss: 5.05e+01\n",
            "Epoch: 500 Train loss: 3.43e+01 Validation loss: 3.96e+01\n",
            "Epoch: 550 Train loss: 2.76e+01 Validation loss: 3.22e+01\n",
            "Epoch: 600 Train loss: 2.53e+01 Validation loss: 2.83e+01\n",
            "Epoch: 650 Train loss: 2.21e+01 Validation loss: 2.35e+01\n",
            "Epoch: 700 Train loss: 1.78e+01 Validation loss: 2.05e+01\n",
            "Epoch: 750 Train loss: 1.42e+01 Validation loss: 1.69e+01\n",
            "Epoch: 800 Train loss: 1.26e+01 Validation loss: 1.71e+01\n",
            "Epoch: 850 Train loss: 1.07e+01 Validation loss: 1.36e+01\n",
            "Epoch: 900 Train loss: 9.92e+00 Validation loss: 1.24e+01\n",
            "Epoch: 950 Train loss: 8.69e+00 Validation loss: 1.07e+01\n",
            "Epoch: 1000 Train loss: 7.87e+00 Validation loss: 9.67e+00\n",
            "Epoch: 1050 Train loss: 7.44e+00 Validation loss: 9.69e+00\n",
            "Epoch: 1100 Train loss: 6.39e+00 Validation loss: 8.76e+00\n",
            "Epoch: 1150 Train loss: 6.08e+00 Validation loss: 8.73e+00\n",
            "Epoch: 1200 Train loss: 5.93e+00 Validation loss: 7.89e+00\n",
            "Epoch: 1250 Train loss: 5.70e+00 Validation loss: 7.30e+00\n",
            "Epoch: 1300 Train loss: 5.33e+00 Validation loss: 7.12e+00\n",
            "Epoch: 1350 Train loss: 5.12e+00 Validation loss: 6.85e+00\n",
            "Epoch: 1400 Train loss: 5.19e+00 Validation loss: 6.68e+00\n",
            "Epoch: 1450 Train loss: 4.92e+00 Validation loss: 6.46e+00\n"
          ]
        }
      ],
      "source": [
        "print(\"Training baseline...\")\n",
        "baseline = BaselineGDPModel()\n",
        "baseline_loss_traj = train(baseline, \"baseline\", hyperparams)\n"
      ]
    },
    {
      "cell_type": "code",
      "execution_count": null,
      "metadata": {
        "colab": {
          "background_save": true
        },
        "id": "iboGHiR7M-89",
        "outputId": "e6d51340-2660-4abb-b9c5-4b1bac0aae1c"
      },
      "outputs": [
        {
          "name": "stdout",
          "output_type": "stream",
          "text": [
            "Training model...\n",
            "Epoch: 0 Train loss: 5.58e+02 Validation loss: 7.44e+02\n",
            "Epoch: 50 Train loss: 2.97e+02 Validation loss: 3.69e+02\n",
            "Epoch: 100 Train loss: 2.00e+02 Validation loss: 2.30e+02\n",
            "Epoch: 150 Train loss: 1.45e+02 Validation loss: 1.72e+02\n",
            "Epoch: 200 Train loss: 1.23e+02 Validation loss: 1.45e+02\n",
            "Epoch: 250 Train loss: 1.07e+02 Validation loss: 1.27e+02\n",
            "Epoch: 300 Train loss: 1.00e+02 Validation loss: 1.11e+02\n",
            "Epoch: 350 Train loss: 6.79e+01 Validation loss: 9.03e+01\n",
            "Epoch: 400 Train loss: 6.27e+01 Validation loss: 7.07e+01\n",
            "Epoch: 450 Train loss: 4.87e+01 Validation loss: 8.02e+01\n",
            "Epoch: 500 Train loss: 4.16e+01 Validation loss: 5.42e+01\n",
            "Epoch: 550 Train loss: 3.54e+01 Validation loss: 4.94e+01\n",
            "Epoch: 600 Train loss: 3.03e+01 Validation loss: 3.63e+01\n",
            "Epoch: 650 Train loss: 2.44e+01 Validation loss: 2.88e+01\n",
            "Epoch: 700 Train loss: 1.98e+01 Validation loss: 2.33e+01\n",
            "Epoch: 750 Train loss: 1.72e+01 Validation loss: 2.14e+01\n",
            "Epoch: 800 Train loss: 1.46e+01 Validation loss: 1.86e+01\n",
            "Epoch: 850 Train loss: 1.29e+01 Validation loss: 1.51e+01\n",
            "Epoch: 900 Train loss: 1.10e+01 Validation loss: 1.37e+01\n",
            "Epoch: 950 Train loss: 1.00e+01 Validation loss: 1.12e+01\n",
            "Epoch: 1000 Train loss: 8.79e+00 Validation loss: 1.05e+01\n",
            "Epoch: 1050 Train loss: 7.72e+00 Validation loss: 1.07e+01\n",
            "Epoch: 1100 Train loss: 7.32e+00 Validation loss: 8.83e+00\n",
            "Epoch: 1150 Train loss: 6.91e+00 Validation loss: 8.31e+00\n",
            "Epoch: 1200 Train loss: 6.38e+00 Validation loss: 8.15e+00\n",
            "Epoch: 1250 Train loss: 6.02e+00 Validation loss: 7.45e+00\n",
            "Epoch: 1300 Train loss: 5.84e+00 Validation loss: 7.28e+00\n",
            "Epoch: 1350 Train loss: 5.57e+00 Validation loss: 6.89e+00\n",
            "Epoch: 1400 Train loss: 5.48e+00 Validation loss: 6.89e+00\n",
            "Epoch: 1450 Train loss: 5.34e+00 Validation loss: 6.61e+00\n"
          ]
        }
      ],
      "source": [
        "print(\"Training model...\")\n",
        "model = GDPModel() # needs to be double precision\n",
        "model_loss_traj = train(model, \"model\", hyperparams)"
      ]
    },
    {
      "cell_type": "markdown",
      "metadata": {
        "id": "fGyLitHBVB6f"
      },
      "source": [
        "Generate a plot comparing the loss trajectories of the baseline and edge features models."
      ]
    },
    {
      "cell_type": "code",
      "execution_count": null,
      "metadata": {
        "colab": {
          "background_save": true
        },
        "id": "m5dCwU1qK3aG"
      },
      "outputs": [],
      "source": [
        "import seaborn as sns\n",
        "import matplotlib.pyplot as plt\n",
        "sns.set_theme()\n",
        "\n",
        "def comparison_plot(baseline_loss_traj, model_loss_traj):\n",
        "    '''\n",
        "    Plot the trajectory of a model's training from a dataframe that has train/val loss at each epoch.\n",
        "    '''\n",
        "    plt.yscale('log')\n",
        "    # list(zip(*l)) unzips a list of tuples l into a list of lists\n",
        "    # in our case, the first elem is epoch, second is train loss, third is val loss\n",
        "    epoch, _, baseline_val = tuple(zip(*baseline_loss_traj))\n",
        "    _, _, model_val = tuple(zip(*model_loss_traj))\n",
        "    plt.plot(epoch, baseline_val, '-r', label='baseline')\n",
        "    plt.plot(epoch, model_val, '-b', label='model')\n",
        "    plt.legend(loc='upper right', title='model type')\n",
        "    plt.yscale('log')\n",
        "    plt.ylabel('log val MSE')\n",
        "    plt.xlabel('epoch')\n",
        "    plt.title(f'Comparing baseline and model with edge features')\n",
        "    plt.show()\n",
        "    plt.clf()"
      ]
    },
    {
      "cell_type": "code",
      "execution_count": null,
      "metadata": {
        "colab": {
          "background_save": true
        },
        "id": "f1CXtr6xK7bI",
        "outputId": "cab903f3-fede-47f0-892e-0f23e1e5976c"
      },
      "outputs": [
        {
          "data": {
            "image/png": "[encoded data removed]",
            "text/plain": [
              "<Figure size 432x288 with 1 Axes>"
            ]
          },
          "metadata": {},
          "output_type": "display_data"
        },
        {
          "data": {
            "text/plain": [
              "<Figure size 432x288 with 0 Axes>"
            ]
          },
          "metadata": {},
          "output_type": "display_data"
        }
      ],
      "source": [
        "comparison_plot(baseline_loss_traj, model_loss_traj)"
      ]
    },
    {
      "cell_type": "markdown",
      "metadata": {
        "id": "D40WQndbVKMB"
      },
      "source": [
        "We then make a plot comparing our predictions to the ground truth."
      ]
    },
    {
      "cell_type": "code",
      "execution_count": null,
      "metadata": {
        "colab": {
          "background_save": true
        },
        "id": "LuqciXPuPWOr",
        "outputId": "8bb0ef63-7afb-43e4-f5c3-8f1968416bbe"
      },
      "outputs": [
        {
          "data": {
            "image/png": "[encoded data removed]",
            "text/plain": [
              "<Figure size 432x288 with 1 Axes>"
            ]
          },
          "metadata": {},
          "output_type": "display_data"
        }
      ],
      "source": [
        "ground_truth =[]\n",
        "preds = []\n",
        "for data in data_test:\n",
        "  ground_truth += list(data.y.detach().numpy().squeeze())\n",
        "  preds += list(model(data).detach().numpy().squeeze())\n",
        "max_x = max(ground_truth)\n",
        "max_x *= 1.15\n",
        "plt.scatter(ground_truth, preds, s=.7, zorder=2)\n",
        "l, r = plt.xlim()\n",
        "plt.plot([l, r], [l, r], c='r', zorder=1)\n",
        "plt.xlabel(\"actual log GDP\")\n",
        "plt.ylabel(\"predicted log GDP\")\n",
        "plt.title(\"Model predictions vs. ground truth\")\n",
        "plt.show()"
      ]
    }
  ],
  "metadata": {
    "accelerator": "GPU",
    "colab": {
      "provenance": []
    },
    "kernelspec": {
      "display_name": "Python 3",
      "name": "python3"
    },
    "language_info": {
      "name": "python"
    }
  },
  "nbformat": 4,
  "nbformat_minor": 0
}