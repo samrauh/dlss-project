{
 "cells": [
  {
   "cell_type": "markdown",
   "id": "deeed32a",
   "metadata": {},
   "source": [
    "# Multimodal Network\n",
    "\n",
    "Create GNN for each of the dimensions and later combine them into a single network.\n",
    "\n",
    "1. Each dimension is a separate graph and gets its own GNN.\n",
    "2. Dimensions are connected in a MLP layer."
   ]
  },
  {
   "cell_type": "code",
   "execution_count": 36,
   "id": "ce967bb2",
   "metadata": {},
   "outputs": [
    {
     "name": "stdout",
     "output_type": "stream",
     "text": [
      "cuda\n",
      "Current working directory: /home/jovyan/dlss-project\n"
     ]
    }
   ],
   "source": [
    "import torch\n",
    "import torch.nn as nn\n",
    "import torch.nn.functional as F\n",
    "from torch_geometric.nn import GCNConv\n",
    "from torch_geometric.data import Data\n",
    "import torch.optim as optim\n",
    "from torch.utils.data import DataLoader, TensorDataset, random_split\n",
    "import pandas as pd\n",
    "import numpy as np\n",
    "from sklearn.model_selection import train_test_split\n",
    "from sklearn.preprocessing import StandardScaler\n",
    "import seaborn as sns\n",
    "import matplotlib.pyplot as plt\n",
    "import networkx as nx\n",
    "import os\n",
    "import country_converter as coco\n",
    "import functools\n",
    "\n",
    "# Set up device (is available use GPU to speed up computations)\n",
    "device = torch.device(\"cuda\" if torch.cuda.is_available() else \"cpu\")\n",
    "print(device)\n",
    "\n",
    "os.chdir('/home/jovyan/dlss-project')\n",
    "print(\"Current working directory:\", os.getcwd())"
   ]
  },
  {
   "cell_type": "markdown",
   "id": "ce4987e0",
   "metadata": {},
   "source": [
    "## Data"
   ]
  },
  {
   "cell_type": "code",
   "execution_count": 45,
   "id": "d38f27f4",
   "metadata": {},
   "outputs": [],
   "source": [
    "path_geo_edges = \"data_collection/geography/edges_yearly_dist_enc.parquet\"\n",
    "path_geo_nodes = \"data_collection/geography/nodes_enc.parquet\"\n",
    "df_geo_edges = pd.read_parquet(path_geo_edges)\n",
    "df_geo_nodes = pd.read_parquet(path_geo_nodes)\n",
    "\n",
    "path_pol_edges = \"data_collection/political/data/edge_features.parquet\"\n",
    "path_pol_nodes = \"data_collection/political/data/node_features.parquet\"\n",
    "df_pol_edges = pd.read_parquet(path_pol_edges)\n",
    "df_pol_nodes = pd.read_parquet(path_pol_nodes)\n",
    "\n",
    "path_cult_edges = \"data_collection/culture/culture_edges.parquet\"\n",
    "path_cult_nodes = \"data_collection/culture/culture_nodes.parquet\"\n",
    "df_cult_edges = pd.read_parquet(path_cult_edges)\n",
    "df_cult_nodes = pd.read_parquet(path_cult_nodes)\n",
    "\n",
    "path_lang_edges = \"data_collection/culture/language_religion_edges.parquet\"\n",
    "path_lang_nodes = \"data_collection/culture/language_religion_nodes.parquet\"\n",
    "df_lang_edges = pd.read_parquet(path_lang_edges)\n",
    "df_lang_nodes = pd.read_parquet(path_lang_nodes)"
   ]
  },
  {
   "cell_type": "code",
   "execution_count": 38,
   "id": "9dfe5510",
   "metadata": {},
   "outputs": [],
   "source": [
    "# Pre-compute UN member countries once\n",
    "@functools.lru_cache(maxsize=1)\n",
    "def get_un_countries():\n",
    "    \"\"\"Cache UN member countries to avoid repeated lookups\"\"\"\n",
    "    return coco.CountryConverter().data[coco.CountryConverter().data['UNmember'].notna()]['ISO3'].dropna().tolist()\n",
    "\n",
    "@functools.lru_cache(maxsize=1000)\n",
    "def convert_country_code(country, target_format='UNnumeric'):\n",
    "    \"\"\"Cache country code conversions\"\"\"\n",
    "    return coco.convert(names=country, to=target_format, not_found=None)\n",
    "\n",
    "def create_data(edge_df, node_df, edge_country_a_col, edge_country_b_col, node_country_col, year_col=\"year\"):\n",
    "    \n",
    "    # Get UN countries once\n",
    "    uno_iso3_codes = get_un_countries()\n",
    "    \n",
    "    # Pre-filter dataframes more efficiently\n",
    "    edge_mask = edge_df[edge_country_a_col].isin(uno_iso3_codes) & edge_df[edge_country_b_col].isin(uno_iso3_codes)\n",
    "    node_mask = node_df[node_country_col].isin(uno_iso3_codes)\n",
    "    \n",
    "    edge_df = edge_df[edge_mask].copy()\n",
    "    node_df = node_df[node_mask].copy()\n",
    "    \n",
    "    print(f\"Number of edges after filtering: {len(edge_df)}\")\n",
    "    print(f\"Number of nodes after filtering: {len(node_df)}\")\n",
    "    \n",
    "    # Vectorized country code conversion (more efficient than individual conversions)\n",
    "    unique_countries_edges = pd.concat([edge_df[edge_country_a_col], edge_df[edge_country_b_col]]).unique()\n",
    "    unique_countries_nodes = node_df[node_country_col].unique()\n",
    "    all_unique_countries = np.unique(np.concatenate([unique_countries_edges, unique_countries_nodes]))\n",
    "    \n",
    "    # Single batch conversion\n",
    "    country_to_id_map = dict(zip(all_unique_countries, coco.convert(all_unique_countries.tolist(), to='UNnumeric', not_found=None)))\n",
    "    \n",
    "    # Apply mapping\n",
    "    edge_df['country_id_a'] = edge_df[edge_country_a_col].map(country_to_id_map)\n",
    "    edge_df['country_id_b'] = edge_df[edge_country_b_col].map(country_to_id_map)\n",
    "    node_df['country_id'] = node_df[node_country_col].map(country_to_id_map)\n",
    "    \n",
    "    node_df = node_df.sort_values(by='country_id')\n",
    "    \n",
    "    data_dict = {}\n",
    "    years = edge_df[year_col].unique()\n",
    "    \n",
    "    for year in years:        \n",
    "        # More efficient filtering\n",
    "        edge_year_mask = edge_df[year_col] == year\n",
    "        node_year_mask = node_df[year_col] == str(year)\n",
    "        \n",
    "        edge_df_year = edge_df[edge_year_mask]\n",
    "        node_df_year = node_df[node_year_mask]\n",
    "        \n",
    "        # Optimize feature processing\n",
    "        edge_features_cols = [col for col in edge_df_year.columns \n",
    "                             if col not in ['country_id_a', 'country_id_b', edge_country_a_col, edge_country_b_col, year_col]]\n",
    "        \n",
    "        edge_features_df = edge_df_year[edge_features_cols].fillna(0)\n",
    "        \n",
    "        # Convert boolean columns more efficiently\n",
    "        bool_cols = edge_features_df.select_dtypes(include='bool').columns\n",
    "        edge_features_df[bool_cols] = edge_features_df[bool_cols].astype(int)\n",
    "        \n",
    "        # Optimize node features processing\n",
    "        node_features_cols = [col for col in node_df_year.columns \n",
    "                             if col not in ['country_id', node_country_col, year_col]]\n",
    "        node_df_year_features = node_df_year[node_features_cols].copy()\n",
    "        \n",
    "        # Fix boolean column conversion to avoid FutureWarning\n",
    "        bool_cols_nodes = node_df_year_features.select_dtypes(include='bool').columns\n",
    "        if len(bool_cols_nodes) > 0:\n",
    "            # First convert the boolean columns to int dtype\n",
    "            for col in bool_cols_nodes:\n",
    "                node_df_year_features[col] = node_df_year_features[col].astype(int)\n",
    "\n",
    "        # More efficient tensor creation\n",
    "        edge_features_array = edge_features_df.values.astype(np.float32)\n",
    "        edge_attr = torch.from_numpy(edge_features_array)\n",
    "                \n",
    "        node_features = torch.tensor(node_df_year_features.values, dtype=torch.float)\n",
    "        edge_index = torch.tensor(edge_df_year[['country_id_a', 'country_id_b']].values.T, dtype=torch.long)\n",
    "        \n",
    "        data = Data(x=node_features, edge_index=edge_index, edge_attr=edge_attr)\n",
    "        data_dict[year] = data\n",
    "        \n",
    "    return data_dict"
   ]
  },
  {
   "cell_type": "code",
   "execution_count": 44,
   "id": "73031b05",
   "metadata": {},
   "outputs": [
    {
     "data": {
      "application/vnd.microsoft.datawrangler.viewer.v0+json": {
       "columns": [
        {
         "name": "index",
         "rawType": "int64",
         "type": "integer"
        },
        {
         "name": "state1_convert",
         "rawType": "object",
         "type": "string"
        },
        {
         "name": "state2_convert",
         "rawType": "object",
         "type": "string"
        },
        {
         "name": "dyad_st_year",
         "rawType": "int64",
         "type": "integer"
        },
        {
         "name": "dyad_end_year",
         "rawType": "Int64",
         "type": "integer"
        },
        {
         "name": "left_censor",
         "rawType": "int64",
         "type": "integer"
        },
        {
         "name": "right_censor",
         "rawType": "int64",
         "type": "integer"
        },
        {
         "name": "defense",
         "rawType": "int64",
         "type": "integer"
        },
        {
         "name": "neutrality",
         "rawType": "int64",
         "type": "integer"
        },
        {
         "name": "nonaggression",
         "rawType": "int64",
         "type": "integer"
        },
        {
         "name": "entente",
         "rawType": "float64",
         "type": "float"
        },
        {
         "name": "asymmetric",
         "rawType": "int64",
         "type": "integer"
        }
       ],
       "ref": "d340a02c-da01-4bb3-813b-029f6d10cff0",
       "rows": [
        [
         "0",
         "Czechia",
         "Russia",
         "1945",
         "1989",
         "0",
         "0",
         "1",
         "1",
         "0",
         "1.0",
         "0"
        ],
        [
         "1",
         "United States",
         "Cuba",
         "1945",
         "1947",
         "0",
         "0",
         "1",
         "0",
         "0",
         "1.0",
         "0"
        ],
        [
         "2",
         "United States",
         "Haiti",
         "1945",
         "1947",
         "0",
         "0",
         "1",
         "0",
         "0",
         "1.0",
         "0"
        ],
        [
         "3",
         "United States",
         "Dominican Republic",
         "1945",
         "1947",
         "0",
         "0",
         "1",
         "0",
         "0",
         "1.0",
         "0"
        ],
        [
         "4",
         "United States",
         "Mexico",
         "1945",
         "1947",
         "0",
         "0",
         "1",
         "0",
         "0",
         "1.0",
         "0"
        ]
       ],
       "shape": {
        "columns": 11,
        "rows": 5
       }
      },
      "text/html": [
       "<div>\n",
       "<style scoped>\n",
       "    .dataframe tbody tr th:only-of-type {\n",
       "        vertical-align: middle;\n",
       "    }\n",
       "\n",
       "    .dataframe tbody tr th {\n",
       "        vertical-align: top;\n",
       "    }\n",
       "\n",
       "    .dataframe thead th {\n",
       "        text-align: right;\n",
       "    }\n",
       "</style>\n",
       "<table border=\"1\" class=\"dataframe\">\n",
       "  <thead>\n",
       "    <tr style=\"text-align: right;\">\n",
       "      <th></th>\n",
       "      <th>state1_convert</th>\n",
       "      <th>state2_convert</th>\n",
       "      <th>dyad_st_year</th>\n",
       "      <th>dyad_end_year</th>\n",
       "      <th>left_censor</th>\n",
       "      <th>right_censor</th>\n",
       "      <th>defense</th>\n",
       "      <th>neutrality</th>\n",
       "      <th>nonaggression</th>\n",
       "      <th>entente</th>\n",
       "      <th>asymmetric</th>\n",
       "    </tr>\n",
       "  </thead>\n",
       "  <tbody>\n",
       "    <tr>\n",
       "      <th>0</th>\n",
       "      <td>Czechia</td>\n",
       "      <td>Russia</td>\n",
       "      <td>1945</td>\n",
       "      <td>1989</td>\n",
       "      <td>0</td>\n",
       "      <td>0</td>\n",
       "      <td>1</td>\n",
       "      <td>1</td>\n",
       "      <td>0</td>\n",
       "      <td>1.0</td>\n",
       "      <td>0</td>\n",
       "    </tr>\n",
       "    <tr>\n",
       "      <th>1</th>\n",
       "      <td>United States</td>\n",
       "      <td>Cuba</td>\n",
       "      <td>1945</td>\n",
       "      <td>1947</td>\n",
       "      <td>0</td>\n",
       "      <td>0</td>\n",
       "      <td>1</td>\n",
       "      <td>0</td>\n",
       "      <td>0</td>\n",
       "      <td>1.0</td>\n",
       "      <td>0</td>\n",
       "    </tr>\n",
       "    <tr>\n",
       "      <th>2</th>\n",
       "      <td>United States</td>\n",
       "      <td>Haiti</td>\n",
       "      <td>1945</td>\n",
       "      <td>1947</td>\n",
       "      <td>0</td>\n",
       "      <td>0</td>\n",
       "      <td>1</td>\n",
       "      <td>0</td>\n",
       "      <td>0</td>\n",
       "      <td>1.0</td>\n",
       "      <td>0</td>\n",
       "    </tr>\n",
       "    <tr>\n",
       "      <th>3</th>\n",
       "      <td>United States</td>\n",
       "      <td>Dominican Republic</td>\n",
       "      <td>1945</td>\n",
       "      <td>1947</td>\n",
       "      <td>0</td>\n",
       "      <td>0</td>\n",
       "      <td>1</td>\n",
       "      <td>0</td>\n",
       "      <td>0</td>\n",
       "      <td>1.0</td>\n",
       "      <td>0</td>\n",
       "    </tr>\n",
       "    <tr>\n",
       "      <th>4</th>\n",
       "      <td>United States</td>\n",
       "      <td>Mexico</td>\n",
       "      <td>1945</td>\n",
       "      <td>1947</td>\n",
       "      <td>0</td>\n",
       "      <td>0</td>\n",
       "      <td>1</td>\n",
       "      <td>0</td>\n",
       "      <td>0</td>\n",
       "      <td>1.0</td>\n",
       "      <td>0</td>\n",
       "    </tr>\n",
       "  </tbody>\n",
       "</table>\n",
       "</div>"
      ],
      "text/plain": [
       "  state1_convert      state2_convert  dyad_st_year  dyad_end_year  \\\n",
       "0        Czechia              Russia          1945           1989   \n",
       "1  United States                Cuba          1945           1947   \n",
       "2  United States               Haiti          1945           1947   \n",
       "3  United States  Dominican Republic          1945           1947   \n",
       "4  United States              Mexico          1945           1947   \n",
       "\n",
       "   left_censor  right_censor  defense  neutrality  nonaggression  entente  \\\n",
       "0            0             0        1           1              0      1.0   \n",
       "1            0             0        1           0              0      1.0   \n",
       "2            0             0        1           0              0      1.0   \n",
       "3            0             0        1           0              0      1.0   \n",
       "4            0             0        1           0              0      1.0   \n",
       "\n",
       "   asymmetric  \n",
       "0           0  \n",
       "1           0  \n",
       "2           0  \n",
       "3           0  \n",
       "4           0  "
      ]
     },
     "execution_count": 44,
     "metadata": {},
     "output_type": "execute_result"
    }
   ],
   "source": [
    "df_pol_edges.head()"
   ]
  },
  {
   "cell_type": "code",
   "execution_count": null,
   "id": "211b72f5",
   "metadata": {},
   "outputs": [
    {
     "name": "stdout",
     "output_type": "stream",
     "text": [
      "Number of edges after filtering: 782920\n",
      "Number of nodes after filtering: 4402\n"
     ]
    }
   ],
   "source": [
    "geo_data = create_data(df_geo_edges, df_geo_nodes, \n",
    "                        edge_country_a_col='iso_o', edge_country_b_col='iso_d',\n",
    "                        node_country_col='code_3', year_col='year')\n",
    "\n",
    "# pol_data = create_data(df_pol_edges, df_pol_nodes,\n",
    "#                         edge_country_a_col='country_id_a', edge_country_b_col='country_id_b',\n",
    "#                         node_country_col='country_id', year_col='year')"
   ]
  },
  {
   "cell_type": "code",
   "execution_count": 40,
   "id": "edb68a54",
   "metadata": {},
   "outputs": [
    {
     "data": {
      "text/plain": [
       "{np.int64(2000): Data(x=[189, 28], edge_index=[2, 34040], edge_attr=[34040, 16]),\n",
       " np.int64(2001): Data(x=[189, 28], edge_index=[2, 34040], edge_attr=[34040, 16]),\n",
       " np.int64(2002): Data(x=[189, 28], edge_index=[2, 34040], edge_attr=[34040, 16]),\n",
       " np.int64(2003): Data(x=[189, 28], edge_index=[2, 34040], edge_attr=[34040, 16]),\n",
       " np.int64(2004): Data(x=[189, 28], edge_index=[2, 34040], edge_attr=[34040, 16]),\n",
       " np.int64(2005): Data(x=[189, 28], edge_index=[2, 34040], edge_attr=[34040, 16]),\n",
       " np.int64(2006): Data(x=[191, 28], edge_index=[2, 34040], edge_attr=[34040, 16]),\n",
       " np.int64(2007): Data(x=[191, 28], edge_index=[2, 34040], edge_attr=[34040, 16]),\n",
       " np.int64(2008): Data(x=[191, 28], edge_index=[2, 34040], edge_attr=[34040, 16]),\n",
       " np.int64(2009): Data(x=[191, 28], edge_index=[2, 34040], edge_attr=[34040, 16]),\n",
       " np.int64(2010): Data(x=[191, 28], edge_index=[2, 34040], edge_attr=[34040, 16]),\n",
       " np.int64(2011): Data(x=[191, 28], edge_index=[2, 34040], edge_attr=[34040, 16]),\n",
       " np.int64(2012): Data(x=[193, 28], edge_index=[2, 34040], edge_attr=[34040, 16]),\n",
       " np.int64(2013): Data(x=[193, 28], edge_index=[2, 34040], edge_attr=[34040, 16]),\n",
       " np.int64(2014): Data(x=[193, 28], edge_index=[2, 34040], edge_attr=[34040, 16]),\n",
       " np.int64(2015): Data(x=[193, 28], edge_index=[2, 34040], edge_attr=[34040, 16]),\n",
       " np.int64(2016): Data(x=[193, 28], edge_index=[2, 34040], edge_attr=[34040, 16]),\n",
       " np.int64(2017): Data(x=[193, 28], edge_index=[2, 34040], edge_attr=[34040, 16]),\n",
       " np.int64(2018): Data(x=[193, 28], edge_index=[2, 34040], edge_attr=[34040, 16]),\n",
       " np.int64(2019): Data(x=[193, 28], edge_index=[2, 34040], edge_attr=[34040, 16]),\n",
       " np.int64(2020): Data(x=[193, 28], edge_index=[2, 34040], edge_attr=[34040, 16]),\n",
       " np.int64(2021): Data(x=[193, 28], edge_index=[2, 34040], edge_attr=[34040, 16]),\n",
       " np.int64(2022): Data(x=[192, 28], edge_index=[2, 34040], edge_attr=[34040, 16])}"
      ]
     },
     "execution_count": 40,
     "metadata": {},
     "output_type": "execute_result"
    }
   ],
   "source": [
    "geo_data"
   ]
  }
 ],
 "metadata": {
  "kernelspec": {
   "display_name": "Python (dlss)",
   "language": "python",
   "name": "dlss_env"
  },
  "language_info": {
   "codemirror_mode": {
    "name": "ipython",
    "version": 3
   },
   "file_extension": ".py",
   "mimetype": "text/x-python",
   "name": "python",
   "nbconvert_exporter": "python",
   "pygments_lexer": "ipython3",
   "version": "3.11.6"
  }
 },
 "nbformat": 4,
 "nbformat_minor": 5
}
